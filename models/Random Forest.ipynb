{
 "cells": [
  {
   "cell_type": "code",
   "execution_count": 8,
   "metadata": {},
   "outputs": [],
   "source": [
    "import pandas as pd\n",
    "from sklearn.model_selection import train_test_split\n",
    "from sklearn.ensemble import RandomForestRegressor\n",
    "from sklearn.metrics import mean_squared_error\n",
    "\n",
    "# 1. Load your train and test data\n",
    "train_data = pd.read_csv('../data/curated/rent.csv')\n",
    "test_data = pd.read_csv('../data/curated/test.csv')\n",
    "\n"
   ]
  },
  {
   "cell_type": "code",
   "execution_count": 9,
   "metadata": {},
   "outputs": [],
   "source": [
    "# Assuming 'rent' is the target variable in the train data\n",
    "# and the rest of the columns are features\n",
    "\n",
    "# 2. Separate the features and target variable from the training data\n",
    "X_train = train_data.drop(columns=['Median'])\n",
    "y_train = train_data['Median']"
   ]
  },
  {
   "cell_type": "code",
   "execution_count": 10,
   "metadata": {},
   "outputs": [],
   "source": [
    "# For the test data, we only have features\n",
    "X_test = test_data[X_train.columns]  # Ensure column alignment\n",
    "\n",
    "# Optional: Preprocessing - handle missing values, encode categorical variables, etc.\n",
    "\n",
    "# 3. Initialize the Random Forest Regressor\n",
    "rf_model = RandomForestRegressor(n_estimators=100, random_state=42)\n",
    "\n",
    "# 4. Train the model using the training data\n",
    "rf_model.fit(X_train, y_train)\n",
    "\n",
    "# 5. Predict the rent values for the test data\n",
    "y_pred = rf_model.predict(X_test)"
   ]
  },
  {
   "cell_type": "code",
   "execution_count": 11,
   "metadata": {},
   "outputs": [],
   "source": [
    "# 6. If you want to evaluate the model, you can split train data to create a validation set\n",
    "# Optionally, split train data into train and validation for testing performance\n",
    "X_train, X_val, y_train, y_val = train_test_split(X_train, y_train, test_size=0.2, random_state=42)\n",
    "rf_model.fit(X_train, y_train)\n",
    "y_val_pred = rf_model.predict(X_val)"
   ]
  },
  {
   "cell_type": "code",
   "execution_count": 12,
   "metadata": {},
   "outputs": [
    {
     "name": "stdout",
     "output_type": "stream",
     "text": [
      "Mean Squared Error on validation data: 491.6516325568216\n",
      "Predicted rent values for test data:\n",
      "[ 654.99708333  966.85486111 1174.29961905 ...  459.29722222  292.28916667\n",
      "  308.34166667]\n"
     ]
    }
   ],
   "source": [
    "\n",
    "\n",
    "# Calculate the performance (e.g., Mean Squared Error)\n",
    "mse = mean_squared_error(y_val, y_val_pred)\n",
    "print(f\"Mean Squared Error on validation data: {mse}\")\n",
    "\n",
    "# 7. Save or return the predictions for the test data\n",
    "print(\"Predicted rent values for test data:\")\n",
    "print(y_pred)\n"
   ]
  }
 ],
 "metadata": {
  "kernelspec": {
   "display_name": "base",
   "language": "python",
   "name": "python3"
  },
  "language_info": {
   "codemirror_mode": {
    "name": "ipython",
    "version": 3
   },
   "file_extension": ".py",
   "mimetype": "text/x-python",
   "name": "python",
   "nbconvert_exporter": "python",
   "pygments_lexer": "ipython3",
   "version": "3.11.8"
  }
 },
 "nbformat": 4,
 "nbformat_minor": 2
}
