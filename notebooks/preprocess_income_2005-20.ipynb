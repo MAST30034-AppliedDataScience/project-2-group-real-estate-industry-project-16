{
 "cells": [
  {
   "cell_type": "code",
   "execution_count": 169,
   "metadata": {},
   "outputs": [],
   "source": [
    "# Library\n",
    "import pandas as pd"
   ]
  },
  {
   "cell_type": "code",
   "execution_count": 170,
   "metadata": {},
   "outputs": [
    {
     "name": "stderr",
     "output_type": "stream",
     "text": [
      "/var/folders/z6/6l5sbbq93f79jfqrtlht_vw40000gn/T/ipykernel_2701/3520390974.py:4: DtypeWarning: Columns (0,4,5,7,9,13) have mixed types. Specify dtype option on import or set low_memory=False.\n",
      "  mb_df = pd.read_csv('../data/raw/MB_2021.csv', encoding='ISO-8859-1')\n",
      "/var/folders/z6/6l5sbbq93f79jfqrtlht_vw40000gn/T/ipykernel_2701/3520390974.py:13: DtypeWarning: Columns (0,1,2) have mixed types. Specify dtype option on import or set low_memory=False.\n",
      "  poa_df = pd.read_csv('../data/raw/POA_2021.csv', encoding='ISO-8859-1')\n"
     ]
    }
   ],
   "source": [
    "# Mesh Blocks\n",
    "\n",
    "# Read data\n",
    "mb_df = pd.read_csv('../data/raw/MB_2021.csv', encoding='ISO-8859-1')\n",
    "# Data cleaning\n",
    "mb_df = mb_df[mb_df.iloc[:, 13] == 2] # retain victoria data\n",
    "mb_df = mb_df.iloc[:, [0, 5, 13, 14]]\n",
    "mb_df_unique = mb_df[['SA2_CODE_2021', 'MB_CODE_2021']].drop_duplicates(subset='SA2_CODE_2021')\n",
    "\n",
    "# Postal Area\n",
    "\n",
    "# Read data\n",
    "poa_df = pd.read_csv('../data/raw/POA_2021.csv', encoding='ISO-8859-1')"
   ]
  },
  {
   "cell_type": "code",
   "execution_count": 171,
   "metadata": {},
   "outputs": [],
   "source": [
    "# 2016-2020\n",
    "\n",
    "# Read data\n",
    "income_16_20_df = pd.read_csv('../data/raw/income_2016-20.csv', encoding='ISO-8859-1')\n",
    "\n",
    "# Data cleaning\n",
    "income_16_20_df = income_16_20_df.iloc[651:1173] # retain victoria data\n",
    "# remove unused data\n",
    "income_16_20_df = income_16_20_df.drop(income_16_20_df.columns[2:22], axis=1) # retain mean income\n",
    "income_16_20_df = income_16_20_df.drop(income_16_20_df.columns[7:], axis=1)\n",
    "# add column name\n",
    "income_16_20_df.columns = ['SA2 code', 'SA2 name', 'Mean 2016', 'Mean 2017','Mean 2018','Mean 2019','Mean 2020']\n",
    "# change numbers to integers\n",
    "income_16_20_df['SA2 code'] = income_16_20_df['SA2 code'].astype(int)\n",
    "\n",
    "# Merge MB code\n",
    "income_16_20_df = income_16_20_df.merge(mb_df_unique[['SA2_CODE_2021', 'MB_CODE_2021']], \n",
    "                                    left_on='SA2 code', right_on='SA2_CODE_2021', how='left')\n",
    "\n",
    "income_16_20_df.rename(columns={'MB_CODE_2021': 'MB code'}, inplace=True)\n",
    "income_16_20_df.drop(columns=['SA2_CODE_2021'], inplace=True)\n",
    "\n",
    "# Merge Postcode\n",
    "income_16_20_df = income_16_20_df.merge(poa_df[['POA_CODE_2021', 'MB_CODE_2021']], \n",
    "                                    left_on='MB code', right_on='MB_CODE_2021', how='left')\n",
    "income_16_20_df.rename(columns={'POA_CODE_2021': 'Postcode'}, inplace=True)\n",
    "income_16_20_df.drop(columns=['MB_CODE_2021'], inplace=True)"
   ]
  },
  {
   "cell_type": "code",
   "execution_count": 173,
   "metadata": {},
   "outputs": [],
   "source": [
    "# SA2 2016 to 2021\n",
    "\n",
    "# Read data\n",
    "sa2_16to21_df = pd.read_csv('../data/raw/SA2_2016_to_2021.csv', encoding='ISO-8859-1')\n",
    "\n",
    "# Data cleaning\n",
    "sa2_16to21_df = sa2_16to21_df.iloc[0:-1]\n",
    "sa2_16to21_df.rename(columns={sa2_16to21_df.columns[0]: 'SA2_CODE_2016'}, inplace=True) # make column names valid\n",
    "sa2_16to21_df = sa2_16to21_df.dropna(subset=['SA2_CODE_2021'])\n",
    "# change numbers to integers\n",
    "sa2_16to21_df['SA2_CODE_2016'] = sa2_16to21_df['SA2_CODE_2016'].astype(int)\n",
    "sa2_16to21_df['SA2_CODE_2021'] = sa2_16to21_df['SA2_CODE_2021'].astype(int)"
   ]
  },
  {
   "cell_type": "code",
   "execution_count": 174,
   "metadata": {},
   "outputs": [],
   "source": [
    "# 2011-2016\n",
    "\n",
    "# Read data\n",
    "income_11_16_df = pd.read_csv('../data/raw/income_2011-16.csv', encoding='ISO-8859-1')\n",
    "\n",
    "# Data cleaning\n",
    "income_11_16_df = income_11_16_df.iloc[585:1047] # retain victoria data\n",
    "# remove unused data\n",
    "income_11_16_df = income_11_16_df.drop(income_11_16_df.columns[2:26], axis=1) # retain mean income\n",
    "income_11_16_df = income_11_16_df.drop(income_11_16_df.columns[-1], axis=1) # remove 2016 data\n",
    "# add column name\n",
    "income_11_16_df.columns = ['SA2 code', 'SA2 name', 'Mean 2011', 'Mean 2012','Mean 2013','Mean 2014','Mean 2015']\n",
    "# change numbers to integers\n",
    "income_11_16_df['SA2 code'] = income_11_16_df['SA2 code'].astype(int)\n",
    "# change 2016 SA2 code to 2021 SA2 code\n",
    "income_11_16_df = income_11_16_df.merge(sa2_16to21_df[['SA2_CODE_2016', 'SA2_CODE_2021']], \n",
    "                                    left_on='SA2 code', right_on='SA2_CODE_2016', how='left')\n",
    "income_11_16_df.drop(columns=['SA2 code'], inplace=True)\n",
    "\n",
    "# Merge\n",
    "# merge MB code\n",
    "income_11_16_df = income_11_16_df.merge(mb_df_unique[['SA2_CODE_2021', 'MB_CODE_2021']], \n",
    "                                    left_on='SA2_CODE_2021', right_on='SA2_CODE_2021', how='left')\n",
    "income_11_16_df.rename(columns={'MB_CODE_2021': 'MB code'}, inplace=True)\n",
    "# merge Postcode\n",
    "income_11_16_df = income_11_16_df.merge(poa_df[['POA_CODE_2021', 'MB_CODE_2021']], \n",
    "                                    left_on='MB code', right_on='MB_CODE_2021', how='left')\n",
    "income_11_16_df.rename(columns={'POA_CODE_2021': 'Postcode'}, inplace=True)\n",
    "income_11_16_df.drop(columns=['MB_CODE_2021'], inplace=True)"
   ]
  },
  {
   "cell_type": "code",
   "execution_count": 176,
   "metadata": {},
   "outputs": [],
   "source": [
    "# SA2 2011 to 2016\n",
    "\n",
    "# Read data\n",
    "sa2_11to16_df = pd.read_csv('../data/raw/SA2_2011_to_2016.csv', encoding='ISO-8859-1')\n",
    "\n",
    "# Data cleaning\n",
    "sa2_11to16_df = sa2_11to16_df.iloc[6:-3]\n",
    "sa2_11to16_df = sa2_11to16_df.iloc[:, [0, 1, 2, 3]]\n",
    "sa2_11to16_df.columns = ['SA2_CODE_2011', 'SA2_NAME_2011', 'SA2_CODE_2016', 'SA2_NAME_2016']\n",
    "# change numbers to integers\n",
    "sa2_11to16_df['SA2_CODE_2011'] = sa2_11to16_df['SA2_CODE_2011'].astype(int)\n",
    "sa2_11to16_df['SA2_CODE_2016'] = sa2_11to16_df['SA2_CODE_2016'].astype(int)\n"
   ]
  },
  {
   "cell_type": "code",
   "execution_count": 178,
   "metadata": {},
   "outputs": [],
   "source": [
    "# 2005-2010\n",
    "\n",
    "# Read data\n",
    "income_05_10_df = pd.read_csv('../data/raw/income_2005-10.csv', encoding='ISO-8859-1')\n",
    "\n",
    "# Data cleaning\n",
    "income_05_10_df = income_05_10_df.iloc[542:970] # retain victoria data\n",
    "# remove unused data\n",
    "income_05_10_df = income_05_10_df.drop(income_05_10_df.columns[2:104], axis=1)\n",
    "# add column name\n",
    "income_05_10_df.columns = ['SA2 code', 'SA2 name', 'Mean 2005', 'Mean 2006','Mean 2007','Mean 2008','Mean 2009', 'Mean 2010']\n",
    "# change numbers to integers\n",
    "income_05_10_df['SA2 code'] = income_05_10_df['SA2 code'].astype(int)\n",
    "\n",
    "# Change code from 2011 to 2021\n",
    "# change 2011 SA2 code to 2016 SA2 code\n",
    "income_05_10_df = income_05_10_df.merge(sa2_11to16_df[['SA2_CODE_2011', 'SA2_CODE_2016']], \n",
    "                                    left_on='SA2 code', right_on='SA2_CODE_2011', how='left')\n",
    "income_05_10_df.drop(columns=['SA2 code'], inplace=True)\n",
    "# change 2016 SA2 code to 2021 SA2 code\n",
    "income_05_10_df = income_05_10_df.merge(sa2_16to21_df[['SA2_CODE_2016', 'SA2_CODE_2021']], \n",
    "                                    left_on='SA2_CODE_2016', right_on='SA2_CODE_2016', how='left')\n",
    "\n",
    "# Merge\n",
    "# merge MB code\n",
    "income_05_10_df = income_05_10_df.merge(mb_df_unique[['SA2_CODE_2021', 'MB_CODE_2021']], \n",
    "                                    left_on='SA2_CODE_2021', right_on='SA2_CODE_2021', how='left')\n",
    "income_05_10_df.rename(columns={'MB_CODE_2021': 'MB code'}, inplace=True)\n",
    "#income_05_10_df.drop(columns=['SA2_CODE_2021'], inplace=True)\n",
    "# merge Postcode\n",
    "income_05_10_df = income_05_10_df.merge(poa_df[['POA_CODE_2021', 'MB_CODE_2021']], \n",
    "                                    left_on='MB code', right_on='MB_CODE_2021', how='left')\n",
    "income_05_10_df.rename(columns={'POA_CODE_2021': 'Postcode'}, inplace=True)\n",
    "income_05_10_df.drop(columns=['MB_CODE_2021'], inplace=True)"
   ]
  },
  {
   "cell_type": "code",
   "execution_count": 179,
   "metadata": {},
   "outputs": [
    {
     "name": "stdout",
     "output_type": "stream",
     "text": [
      "SA2 name           Alfredton\n",
      "Mean 2005             36,768\n",
      "Mean 2006             38,604\n",
      "Mean 2007             39,326\n",
      "Mean 2008             42,024\n",
      "Mean 2009             43,672\n",
      "Mean 2010             46,530\n",
      "SA2_CODE_2011      201011001\n",
      "SA2_CODE_2016      201011001\n",
      "SA2_CODE_2021      201011001\n",
      "MB code          20004360000\n",
      "Postcode                3350\n",
      "Name: 0, dtype: object\n",
      "0\n"
     ]
    }
   ],
   "source": [
    "print(income_05_10_df.iloc[0,])\n",
    "print(income_05_10_df['MB code'].isna().sum())"
   ]
  },
  {
   "cell_type": "code",
   "execution_count": 180,
   "metadata": {},
   "outputs": [],
   "source": [
    "# Save data\n",
    "income_16_20_df.to_csv('../data/landing/prepro_income_2016-20.csv', index=False)\n",
    "income_11_16_df.to_csv('../data/landing/prepro_income_2011-16.csv', index=False)\n",
    "income_05_10_df.to_csv('../data/landing/prepro_income_2005-10.csv', index=False)"
   ]
  }
 ],
 "metadata": {
  "kernelspec": {
   "display_name": "Python 3",
   "language": "python",
   "name": "python3"
  },
  "language_info": {
   "codemirror_mode": {
    "name": "ipython",
    "version": 3
   },
   "file_extension": ".py",
   "mimetype": "text/x-python",
   "name": "python",
   "nbconvert_exporter": "python",
   "pygments_lexer": "ipython3",
   "version": "3.10.5"
  },
  "orig_nbformat": 4
 },
 "nbformat": 4,
 "nbformat_minor": 2
}
