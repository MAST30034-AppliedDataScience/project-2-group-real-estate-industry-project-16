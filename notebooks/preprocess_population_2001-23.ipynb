{
 "cells": [
  {
   "cell_type": "code",
   "execution_count": 140,
   "metadata": {},
   "outputs": [],
   "source": [
    "# Library\n",
    "import pandas as pd"
   ]
  },
  {
   "cell_type": "code",
   "execution_count": 141,
   "metadata": {},
   "outputs": [
    {
     "name": "stderr",
     "output_type": "stream",
     "text": [
      "/var/folders/z6/6l5sbbq93f79jfqrtlht_vw40000gn/T/ipykernel_2286/969989266.py:4: DtypeWarning: Columns (1,5,7,9,11,12,13,14,15,16,17,18,19,20,21,22,23,24,25,26,27,28,29) have mixed types. Specify dtype option on import or set low_memory=False.\n",
      "  population_df = pd.read_csv('../data/raw/population_2001-23.csv', encoding='ISO-8859-1')\n"
     ]
    }
   ],
   "source": [
    "# Population\n",
    "\n",
    "# Read data\n",
    "population_df = pd.read_csv('../data/raw/population_2001-23.csv', encoding='ISO-8859-1')\n",
    "\n",
    "# Data cleaning\n",
    "population_df = population_df[population_df.iloc[:, 1].isin(['2', 2])] # retain victoria data\n",
    "# remove unused data\n",
    "population_df = population_df.iloc[:, [0, 6, 8, 9, 10, 29]]\n",
    "# add column name\n",
    "population_df.columns = ['Year', 'SA4 name', 'SA3 name', 'SA2 code', 'SA2 name', 'Total persons']\n",
    "# change numbers to integers\n",
    "population_df['SA2 code'] = population_df['SA2 code'].astype(int)\n",
    "population_df['Total persons'] = population_df['Total persons'].astype(int)"
   ]
  },
  {
   "cell_type": "code",
   "execution_count": 143,
   "metadata": {},
   "outputs": [
    {
     "name": "stderr",
     "output_type": "stream",
     "text": [
      "/var/folders/z6/6l5sbbq93f79jfqrtlht_vw40000gn/T/ipykernel_2286/4288605387.py:4: DtypeWarning: Columns (0,4,5,7,9,13) have mixed types. Specify dtype option on import or set low_memory=False.\n",
      "  mb_df = pd.read_csv('../data/raw/MB_2021.csv', encoding='ISO-8859-1')\n"
     ]
    }
   ],
   "source": [
    "# Mesh Blocks\n",
    "\n",
    "# Read data\n",
    "mb_df = pd.read_csv('../data/raw/MB_2021.csv', encoding='ISO-8859-1')\n",
    "\n",
    "# Data cleaning\n",
    "mb_df = mb_df[mb_df.iloc[:, 13] == 2] # retain victoria data\n",
    "mb_df = mb_df.iloc[:, [0, 5, 13, 14]]\n",
    "mb_df_unique = mb_df[['SA2_CODE_2021', 'MB_CODE_2021']].drop_duplicates(subset='SA2_CODE_2021')\n",
    "\n",
    "# Merge\n",
    "population_df = population_df.merge(mb_df_unique[['SA2_CODE_2021', 'MB_CODE_2021']], \n",
    "                                    left_on='SA2 code', right_on='SA2_CODE_2021', how='left')\n",
    "\n",
    "population_df.rename(columns={'MB_CODE_2021': 'MB code'}, inplace=True)\n",
    "population_df.drop(columns=['SA2_CODE_2021'], inplace=True)"
   ]
  },
  {
   "cell_type": "code",
   "execution_count": 144,
   "metadata": {},
   "outputs": [
    {
     "name": "stderr",
     "output_type": "stream",
     "text": [
      "/var/folders/z6/6l5sbbq93f79jfqrtlht_vw40000gn/T/ipykernel_2286/3237202963.py:4: DtypeWarning: Columns (0,1,2) have mixed types. Specify dtype option on import or set low_memory=False.\n",
      "  poa_df = pd.read_csv('../data/raw/POA_2021.csv', encoding='ISO-8859-1')\n"
     ]
    }
   ],
   "source": [
    "# Postal Area\n",
    "\n",
    "# Read data\n",
    "poa_df = pd.read_csv('../data/raw/POA_2021.csv', encoding='ISO-8859-1')\n",
    "\n",
    "# Merge\n",
    "population_df = population_df.merge(poa_df[['POA_CODE_2021', 'MB_CODE_2021']], \n",
    "                                    left_on='MB code', right_on='MB_CODE_2021', how='left')\n",
    "population_df.rename(columns={'POA_CODE_2021': 'Postcode'}, inplace=True)\n",
    "population_df.drop(columns=['MB_CODE_2021'], inplace=True)"
   ]
  },
  {
   "cell_type": "code",
   "execution_count": 145,
   "metadata": {},
   "outputs": [
    {
     "name": "stdout",
     "output_type": "stream",
     "text": [
      "12006\n",
      "0\n",
      "Year                    2001\n",
      "SA4 name            Ballarat\n",
      "SA3 name            Ballarat\n",
      "SA2 code           201011001\n",
      "SA2 name           Alfredton\n",
      "Total persons           5756\n",
      "MB code          20004360000\n",
      "Postcode                3350\n",
      "Name: 0, dtype: object\n"
     ]
    }
   ],
   "source": [
    "print(len(population_df))\n",
    "print(population_df['Postcode'].isna().sum())\n",
    "print(population_df.iloc[0,])"
   ]
  },
  {
   "cell_type": "code",
   "execution_count": 146,
   "metadata": {},
   "outputs": [],
   "source": [
    "# Save data\n",
    "population_df.to_csv('../data/landing/prepro_population_2001-23.csv', index=False)"
   ]
  }
 ],
 "metadata": {
  "kernelspec": {
   "display_name": "Python 3",
   "language": "python",
   "name": "python3"
  },
  "language_info": {
   "codemirror_mode": {
    "name": "ipython",
    "version": 3
   },
   "file_extension": ".py",
   "mimetype": "text/x-python",
   "name": "python",
   "nbconvert_exporter": "python",
   "pygments_lexer": "ipython3",
   "version": "3.10.5"
  },
  "orig_nbformat": 4
 },
 "nbformat": 4,
 "nbformat_minor": 2
}
