{
 "cells": [
  {
   "cell_type": "code",
   "execution_count": 1,
   "metadata": {},
   "outputs": [],
   "source": [
    "# Library\n",
    "import pandas as pd"
   ]
  },
  {
   "cell_type": "code",
   "execution_count": 2,
   "metadata": {},
   "outputs": [
    {
     "name": "stderr",
     "output_type": "stream",
     "text": [
      "/var/folders/z6/6l5sbbq93f79jfqrtlht_vw40000gn/T/ipykernel_82632/634050365.py:2: DtypeWarning: Columns (1,5,7,9,11,12,13,14,15,16,17,18,19,20,21,22,23,24,25,26,27,28,29) have mixed types. Specify dtype option on import or set low_memory=False.\n",
      "  population_df = pd.read_csv('../data/raw/population_2001-23.csv', encoding='ISO-8859-1')\n"
     ]
    }
   ],
   "source": [
    "# Read data\n",
    "population_df = pd.read_csv('../data/raw/population_2001-23.csv', encoding='ISO-8859-1')"
   ]
  },
  {
   "cell_type": "code",
   "execution_count": 3,
   "metadata": {},
   "outputs": [],
   "source": [
    "# Data cleaning\n",
    "population_df = population_df[population_df.iloc[:, 1] == '2'] # retain victoria data\n",
    "\n",
    "# remove unused data\n",
    "population_df = population_df.drop(population_df.columns[11:29], axis=1)\n",
    "population_df = population_df.drop(population_df.columns[-1], axis=1)\n",
    "\n",
    "# add column name\n",
    "population_df.columns = ['Year' ,'S/T code', 'S/T name', 'GCCSA code', 'GCCSA name', 'SA4 code', 'SA4 name', 'SA3 code', 'SA3 name', 'SA2 code', 'SA2 name', 'Total persons']"
   ]
  },
  {
   "cell_type": "code",
   "execution_count": 4,
   "metadata": {},
   "outputs": [],
   "source": [
    "# Save data\n",
    "population_df.to_csv('../data/landing/prepro_population_2001-23.csv', index=False)"
   ]
  }
 ],
 "metadata": {
  "kernelspec": {
   "display_name": "Python 3",
   "language": "python",
   "name": "python3"
  },
  "language_info": {
   "codemirror_mode": {
    "name": "ipython",
    "version": 3
   },
   "file_extension": ".py",
   "mimetype": "text/x-python",
   "name": "python",
   "nbconvert_exporter": "python",
   "pygments_lexer": "ipython3",
   "version": "3.10.5"
  },
  "orig_nbformat": 4
 },
 "nbformat": 4,
 "nbformat_minor": 2
}
