{
 "cells": [
  {
   "cell_type": "markdown",
   "metadata": {},
   "source": [
    "# Load Data and Read Data"
   ]
  },
  {
   "cell_type": "code",
   "execution_count": 1,
   "metadata": {},
   "outputs": [],
   "source": [
    "import geopandas as gpd\n",
    "import pandas as pd\n",
    "\n",
    "# Read files of stations\n",
    "tram_stops = gpd.read_file('../../data/raw/external/Transportation/PTV_METRO_TRAM_STOP.shp')\n",
    "bus_stops = gpd.read_file('../../data/raw/external/Transportation/PTV_REGIONAL_BUS_ROUTE.shp')\n",
    "train_stops = gpd.read_file('../../data/raw/external/Transportation/PTV_REGIONAL_TRAIN_STATION.shp')\n",
    "\n",
    "# Read files about postcode in VIC\n",
    "postcode_areas = gpd.read_file('../../data/raw/external/Postcode/POSTCODE_POLYGON.shp')"
   ]
  },
  {
   "cell_type": "markdown",
   "metadata": {},
   "source": [
    "# Process Data"
   ]
  },
  {
   "cell_type": "code",
   "execution_count": 2,
   "metadata": {},
   "outputs": [
    {
     "data": {
      "text/html": [
       "<div>\n",
       "<style scoped>\n",
       "    .dataframe tbody tr th:only-of-type {\n",
       "        vertical-align: middle;\n",
       "    }\n",
       "\n",
       "    .dataframe tbody tr th {\n",
       "        vertical-align: top;\n",
       "    }\n",
       "\n",
       "    .dataframe thead th {\n",
       "        text-align: right;\n",
       "    }\n",
       "</style>\n",
       "<table border=\"1\" class=\"dataframe\">\n",
       "  <thead>\n",
       "    <tr style=\"text-align: right;\">\n",
       "      <th></th>\n",
       "      <th>POSTCODE</th>\n",
       "      <th>tram_count</th>\n",
       "      <th>bus_count</th>\n",
       "      <th>train_count</th>\n",
       "    </tr>\n",
       "  </thead>\n",
       "  <tbody>\n",
       "    <tr>\n",
       "      <th>0</th>\n",
       "      <td>3000</td>\n",
       "      <td>96.0</td>\n",
       "      <td>0.0</td>\n",
       "      <td>1.0</td>\n",
       "    </tr>\n",
       "    <tr>\n",
       "      <th>1</th>\n",
       "      <td>3002</td>\n",
       "      <td>22.0</td>\n",
       "      <td>0.0</td>\n",
       "      <td>0.0</td>\n",
       "    </tr>\n",
       "    <tr>\n",
       "      <th>2</th>\n",
       "      <td>3003</td>\n",
       "      <td>8.0</td>\n",
       "      <td>0.0</td>\n",
       "      <td>1.0</td>\n",
       "    </tr>\n",
       "    <tr>\n",
       "      <th>3</th>\n",
       "      <td>3004</td>\n",
       "      <td>30.0</td>\n",
       "      <td>0.0</td>\n",
       "      <td>0.0</td>\n",
       "    </tr>\n",
       "    <tr>\n",
       "      <th>4</th>\n",
       "      <td>3006</td>\n",
       "      <td>27.0</td>\n",
       "      <td>0.0</td>\n",
       "      <td>0.0</td>\n",
       "    </tr>\n",
       "  </tbody>\n",
       "</table>\n",
       "</div>"
      ],
      "text/plain": [
       "  POSTCODE  tram_count  bus_count  train_count\n",
       "0     3000        96.0        0.0          1.0\n",
       "1     3002        22.0        0.0          0.0\n",
       "2     3003         8.0        0.0          1.0\n",
       "3     3004        30.0        0.0          0.0\n",
       "4     3006        27.0        0.0          0.0"
      ]
     },
     "execution_count": 2,
     "metadata": {},
     "output_type": "execute_result"
    }
   ],
   "source": [
    "# Ensure that all data has the same coordinate system\n",
    "tram_stops = tram_stops.to_crs(postcode_areas.crs)\n",
    "bus_stops = bus_stops.to_crs(postcode_areas.crs)\n",
    "train_stops = train_stops.to_crs(postcode_areas.crs)\n",
    "\n",
    "# Using the new 'predicate' parameter for spatial joins\n",
    "tram_postcode = gpd.sjoin(tram_stops, postcode_areas, how=\"left\", predicate=\"within\")\n",
    "bus_postcode = gpd.sjoin(bus_stops, postcode_areas, how=\"left\", predicate=\"within\")\n",
    "train_postcode = gpd.sjoin(train_stops, postcode_areas, how=\"left\", predicate=\"within\")\n",
    "\n",
    "# Calculate the number of stops per postcode\n",
    "tram_count = tram_postcode.groupby('POSTCODE').size().reset_index(name='tram_count')\n",
    "bus_count = bus_postcode.groupby('POSTCODE').size().reset_index(name='bus_count')\n",
    "train_count = train_postcode.groupby('POSTCODE').size().reset_index(name='train_count')\n",
    "\n",
    "# Merge results\n",
    "station_counts = tram_count.merge(bus_count, on='POSTCODE', how='outer')\n",
    "station_counts = station_counts.merge(train_count, on='POSTCODE', how='outer')\n",
    "\n",
    "# Fill NaN values ​​with 0, indicating that there is no site of the corresponding type\n",
    "station_counts.fillna(0, inplace=True)\n",
    "\n",
    "station_counts.head()"
   ]
  },
  {
   "cell_type": "code",
   "execution_count": 3,
   "metadata": {},
   "outputs": [],
   "source": [
    "station_counts['tram_count'] = pd.to_numeric(station_counts['tram_count'], errors='coerce').astype('Int64')\n",
    "station_counts['bus_count'] = pd.to_numeric(station_counts['bus_count'], errors='coerce').astype('Int64')\n",
    "station_counts['train_count'] = pd.to_numeric(station_counts['train_count'], errors='coerce').astype('Int64')\n",
    "\n",
    "# Rename POSTCODE into postcode\n",
    "station_counts = station_counts.rename(columns={'POSTCODE':'postcode'})\n",
    "\n",
    "station_counts.to_csv(\"../../data/landing/Transportation.csv\", index=False)"
   ]
  }
 ],
 "metadata": {
  "kernelspec": {
   "display_name": "Python 3",
   "language": "python",
   "name": "python3"
  },
  "language_info": {
   "codemirror_mode": {
    "name": "ipython",
    "version": 3
   },
   "file_extension": ".py",
   "mimetype": "text/x-python",
   "name": "python",
   "nbconvert_exporter": "python",
   "pygments_lexer": "ipython3",
   "version": "3.11.0rc1"
  }
 },
 "nbformat": 4,
 "nbformat_minor": 2
}
