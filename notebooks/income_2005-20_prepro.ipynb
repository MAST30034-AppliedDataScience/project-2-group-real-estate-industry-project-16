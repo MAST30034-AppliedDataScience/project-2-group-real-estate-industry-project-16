{
 "cells": [
  {
   "cell_type": "code",
   "execution_count": 1,
   "metadata": {},
   "outputs": [],
   "source": [
    "# Library\n",
    "import pandas as pd"
   ]
  },
  {
   "cell_type": "code",
   "execution_count": 2,
   "metadata": {},
   "outputs": [],
   "source": [
    "# 2016-2020\n",
    "\n",
    "# Read data\n",
    "income_16_20_df = pd.read_csv('../data/raw/income_2016-20.csv', encoding='ISO-8859-1')\n",
    "\n",
    "# Data cleaning\n",
    "income_16_20_df = income_16_20_df.iloc[651:1173] # retain victoria data\n",
    "# remove unused data\n",
    "income_16_20_df = income_16_20_df.drop(income_16_20_df.columns[2:22], axis=1) # retain mean income\n",
    "income_16_20_df = income_16_20_df.drop(income_16_20_df.columns[7:], axis=1)\n",
    "# add column name\n",
    "income_16_20_df.columns = ['SA2 code', 'SA2 name', 'Mean 2016', 'Mean 2017','Mean 2018','Mean 2019','Mean 2020']"
   ]
  },
  {
   "cell_type": "code",
   "execution_count": 3,
   "metadata": {},
   "outputs": [],
   "source": [
    "# 2011-2016\n",
    "\n",
    "# Read data\n",
    "income_11_16_df = pd.read_csv('../data/raw/income_2011-16.csv', encoding='ISO-8859-1')\n",
    "\n",
    "# Data cleaning\n",
    "income_11_16_df = income_11_16_df.iloc[585:1047] # retain victoria data\n",
    "# remove unused data\n",
    "income_11_16_df = income_11_16_df.drop(income_11_16_df.columns[2:26], axis=1) # retain mean income\n",
    "income_11_16_df = income_11_16_df.drop(income_11_16_df.columns[-1], axis=1) # remove 2016 data\n",
    "# add column name\n",
    "income_11_16_df.columns = ['SA2 code', 'SA2 name', 'Mean 2011', 'Mean 2012','Mean 2013','Mean 2014','Mean 2015']"
   ]
  },
  {
   "cell_type": "code",
   "execution_count": 4,
   "metadata": {},
   "outputs": [],
   "source": [
    "# 2005-2010\n",
    "\n",
    "# Read data\n",
    "income_05_10_df = pd.read_csv('../data/raw/income_2005-10.csv', encoding='ISO-8859-1')\n",
    "\n",
    "# Data cleaning\n",
    "income_05_10_df = income_05_10_df.iloc[542:970] # retain victoria data\n",
    "# remove unused data\n",
    "income_05_10_df = income_05_10_df.drop(income_05_10_df.columns[2:104], axis=1)\n",
    "# add column name\n",
    "income_05_10_df.columns = ['SA2 code', 'SA2 name', 'Mean 2005', 'Mean 2006','Mean 2007','Mean 2008','Mean 2009', 'Mean 2010']"
   ]
  },
  {
   "cell_type": "code",
   "execution_count": 5,
   "metadata": {},
   "outputs": [
    {
     "name": "stdout",
     "output_type": "stream",
     "text": [
      "SA2 code     201011001\n",
      "SA2 name     Alfredton\n",
      "Mean 2005       36,768\n",
      "Mean 2006       38,604\n",
      "Mean 2007       39,326\n",
      "Mean 2008       42,024\n",
      "Mean 2009       43,672\n",
      "Mean 2010       46,530\n",
      "Name: 542, dtype: object\n"
     ]
    }
   ],
   "source": [
    "print(income_05_10_df.iloc[0,])"
   ]
  },
  {
   "cell_type": "code",
   "execution_count": 6,
   "metadata": {},
   "outputs": [],
   "source": [
    "# Save data\n",
    "income_16_20_df.to_csv('../data/landing/prepro_income_2016-20.csv', index=False)\n",
    "income_11_16_df.to_csv('../data/landing/prepro_income_2011-16.csv', index=False)\n",
    "income_05_10_df.to_csv('../data/landing/prepro_income_2005-10.csv', index=False)"
   ]
  }
 ],
 "metadata": {
  "kernelspec": {
   "display_name": "Python 3",
   "language": "python",
   "name": "python3"
  },
  "language_info": {
   "codemirror_mode": {
    "name": "ipython",
    "version": 3
   },
   "file_extension": ".py",
   "mimetype": "text/x-python",
   "name": "python",
   "nbconvert_exporter": "python",
   "pygments_lexer": "ipython3",
   "version": "3.10.5"
  },
  "orig_nbformat": 4
 },
 "nbformat": 4,
 "nbformat_minor": 2
}
