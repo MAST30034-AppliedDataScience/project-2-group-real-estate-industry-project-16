{
 "cells": [
  {
   "cell_type": "code",
   "execution_count": 35,
   "metadata": {},
   "outputs": [
    {
     "name": "stdout",
     "output_type": "stream",
     "text": [
      "    POSTCODE  Park Count\n",
      "0       3004           3\n",
      "1       3011           2\n",
      "2       3015           2\n",
      "3       3016           1\n",
      "4       3018           1\n",
      "..       ...         ...\n",
      "498     3988           1\n",
      "499     3991           2\n",
      "500     3992           1\n",
      "501     3995          38\n",
      "502     3996          10\n",
      "\n",
      "[503 rows x 2 columns]\n"
     ]
    },
    {
     "name": "stderr",
     "output_type": "stream",
     "text": [
      "/opt/anaconda3/lib/python3.11/site-packages/IPython/core/interactiveshell.py:3493: FutureWarning: The `op` parameter is deprecated and will be removed in a future release. Please use the `predicate` parameter instead.\n",
      "  if await self.run_code(code, result, async_=asy):\n"
     ]
    }
   ],
   "source": [
    "import geopandas as gpd\n",
    "\n",
    "\n",
    "postcodes = gpd.read_file(\"../data/raw/POSTCODE_POLYGON.shp\")\n",
    "parks = gpd.read_file(\"../data/raw/PARKRES.shp\")\n",
    "\n",
    "# Check if the Coordinate Reference Systems (CRS) of both datasets match\n",
    "if postcodes.crs != parks.crs:\n",
    "    parks = parks.to_crs(postcodes.crs)\n",
    "\n",
    "# spatial join\n",
    "parks_in_postcode = gpd.sjoin(parks, postcodes, how=\"inner\", op=\"within\")\n",
    "\n",
    "# count the number of parks in each postcode area\n",
    "parks_count = parks_in_postcode.groupby(\"POSTCODE\").size().reset_index(name=\"Park Count\")\n",
    "\n",
    "\n",
    "print(parks_count)\n",
    "parks_count.to_csv(\"../data/curated/parks_count_per_postcode.csv\", index=False)\n"
   ]
  },
  {
   "cell_type": "code",
   "execution_count": 36,
   "metadata": {},
   "outputs": [
    {
     "name": "stdout",
     "output_type": "stream",
     "text": [
      "postcide 3551 with max 212 parks\n"
     ]
    }
   ],
   "source": [
    "max_park_postcode = parks_count.loc[parks_count['Park Count'].idxmax()]\n",
    "\n",
    "# most parks postcode\n",
    "print(f\"postcide {max_park_postcode['POSTCODE']} with max {max_park_postcode['Park Count']} parks\")"
   ]
  }
 ],
 "metadata": {
  "kernelspec": {
   "display_name": "base",
   "language": "python",
   "name": "python3"
  },
  "language_info": {
   "codemirror_mode": {
    "name": "ipython",
    "version": 3
   },
   "file_extension": ".py",
   "mimetype": "text/x-python",
   "name": "python",
   "nbconvert_exporter": "python",
   "pygments_lexer": "ipython3",
   "version": "3.11.8"
  }
 },
 "nbformat": 4,
 "nbformat_minor": 2
}
