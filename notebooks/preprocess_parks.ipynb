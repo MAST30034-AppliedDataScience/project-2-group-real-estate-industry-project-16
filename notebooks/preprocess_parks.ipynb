{
 "cells": [
  {
   "cell_type": "code",
   "execution_count": 30,
   "metadata": {},
   "outputs": [
    {
     "name": "stdout",
     "output_type": "stream",
     "text": [
      "    POSTCODE  park_count  mean_park_area\n",
      "0       3004           3       73.941667\n",
      "1       3011           2       84.240000\n",
      "2       3015           2      103.036000\n",
      "3       3016           1       18.041000\n",
      "4       3018           1        5.396000\n",
      "..       ...         ...             ...\n",
      "498     3988           1       22.224000\n",
      "499     3991           2       26.384000\n",
      "500     3992           1        4.249000\n",
      "501     3995          38      500.322421\n",
      "502     3996          10     1927.782400\n",
      "\n",
      "[503 rows x 3 columns]\n"
     ]
    }
   ],
   "source": [
    "import geopandas as gpd\n",
    "\n",
    "\n",
    "postcodes = gpd.read_file(\"../data/raw/external/postcode/POSTCODE_POLYGON.shp\")\n",
    "parks = gpd.read_file(\"../data/raw/external/PARKERS/PARKRES.shp\")\n",
    "\n",
    "# Check if the Coordinate Reference Systems (CRS) of both datasets match\n",
    "if postcodes.crs != parks.crs:\n",
    "    parks = parks.to_crs(postcodes.crs)\n",
    "\n",
    "# spatial join\n",
    "parks_in_postcode = gpd.sjoin(parks, postcodes, how=\"inner\", predicate=\"within\")\n",
    "\n",
    "# count the number of parks in each postcode area\n",
    "# Group by postcode and calculate the number of parks and mean area using the 'TOTAL_AREA' column\n",
    "parks_stats = parks_in_postcode.groupby(\"POSTCODE\").agg(\n",
    "    park_count=(\"POSTCODE\", \"size\"),\n",
    "    mean_park_area=(\"TOTAL_AREA\", \"mean\")\n",
    ").reset_index()\n",
    "\n",
    "print(parks_stats)\n",
    "parks_stats.to_csv(\"../data/landing/parks.csv\", index=False)\n"
   ]
  },
  {
   "cell_type": "code",
   "execution_count": 31,
   "metadata": {},
   "outputs": [
    {
     "name": "stdout",
     "output_type": "stream",
     "text": [
      "postcide 3551 with max 212 parks\n"
     ]
    }
   ],
   "source": [
    "max_park_postcode = parks_stats.loc[parks_stats['park_count'].idxmax()]\n",
    "\n",
    "# most parks postcode\n",
    "print(f\"postcide {max_park_postcode['POSTCODE']} with max {max_park_postcode['park_count']} parks\")"
   ]
  }
 ],
 "metadata": {
  "kernelspec": {
   "display_name": "base",
   "language": "python",
   "name": "python3"
  },
  "language_info": {
   "codemirror_mode": {
    "name": "ipython",
    "version": 3
   },
   "file_extension": ".py",
   "mimetype": "text/x-python",
   "name": "python",
   "nbconvert_exporter": "python",
   "pygments_lexer": "ipython3",
   "version": "3.11.8"
  }
 },
 "nbformat": 4,
 "nbformat_minor": 2
}
